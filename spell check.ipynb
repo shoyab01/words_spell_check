{
 "cells": [
  {
   "cell_type": "code",
   "execution_count": 1,
   "metadata": {},
   "outputs": [],
   "source": [
    "from textblob import TextBlob #importing TextBlob library from textblob\n",
    "import os #importing os module\n",
    "os.chdir(\"C:\\\\Users\\\\shaik shoyab\\\\Desktop\") #changing the working directory"
   ]
  },
  {
   "cell_type": "code",
   "execution_count": 2,
   "metadata": {},
   "outputs": [],
   "source": [
    "file1 = open(\"misspelled_words.txt\",\"r+\") #open file named misspelled_words.txt in read mode\n",
    "a = file1.read() #read the file in variable a"
   ]
  },
  {
   "cell_type": "code",
   "execution_count": 3,
   "metadata": {},
   "outputs": [
    {
     "name": "stdout",
     "output_type": "stream",
     "text": [
      "original text : abcense\n",
      "absance\n",
      "acceptible\n",
      "accidentaly\n",
      "accomodate\n",
      "acommodate\n",
      "acheive\n",
      "acknowlege\n",
      "aknowledge\n",
      "cquaintence\n",
      "aquaintance\n",
      "aquire\n",
      "adquire\n",
      "allegaince \n",
      "allegience\n",
      "alegiance\n",
      "dumbell\n",
      "embarass\n",
      "garantee\n",
      "garentee\n",
      "garanty\n",
      "independant\n",
      "occurrance\n",
      "privelege\n",
      "priviledge\n",
      "pronounciation\n",
      "readible\n",
      "similer\n",
      "wether\n",
      "whether\n",
      "wierd\n",
      "writeing\n",
      "withold\n"
     ]
    }
   ],
   "source": [
    "print(\"original text : \"+str(a))\n",
    "\n",
    "b=TextBlob(a) "
   ]
  },
  {
   "cell_type": "code",
   "execution_count": 4,
   "metadata": {},
   "outputs": [
    {
     "name": "stdout",
     "output_type": "stream",
     "text": [
      "corrected text : absence\n",
      "absence\n",
      "acceptable\n",
      "accidentally\n",
      "accommodate\n",
      "accommodate\n",
      "achieve\n",
      "acknowledge\n",
      "knowledge\n",
      "acquaintance\n",
      "acquaintance\n",
      "acquire\n",
      "acquire\n",
      "allegiance \n",
      "allegiance\n",
      "allegiance\n",
      "dumbly\n",
      "embarass\n",
      "guarantee\n",
      "guarantee\n",
      "grant\n",
      "independent\n",
      "occurrence\n",
      "privilege\n",
      "privilege\n",
      "pronunciation\n",
      "readable\n",
      "similar\n",
      "whether\n",
      "whether\n",
      "wired\n",
      "writing\n",
      "withhold\n"
     ]
    }
   ],
   "source": [
    "print(\"corrected text : \"+str(b.correct())) #correcting the misspelled words using TextBlob library\n",
    "file1.close() #closing the misspelled_words.txt file"
   ]
  },
  {
   "cell_type": "code",
   "execution_count": 5,
   "metadata": {},
   "outputs": [],
   "source": [
    "d = open(\"corrected_words.txt\",\"w\") #open another file named corrected_words.txt in write mode\n",
    "d.write(str(b.correct())) #writing the corrected contents into corrected_words.txt file\n",
    "d.close() #close corrected_words.txt file"
   ]
  },
  {
   "cell_type": "code",
   "execution_count": null,
   "metadata": {},
   "outputs": [],
   "source": []
  },
  {
   "cell_type": "code",
   "execution_count": null,
   "metadata": {},
   "outputs": [],
   "source": []
  }
 ],
 "metadata": {
  "kernelspec": {
   "display_name": "Python 3",
   "language": "python",
   "name": "python3"
  },
  "language_info": {
   "codemirror_mode": {
    "name": "ipython",
    "version": 3
   },
   "file_extension": ".py",
   "mimetype": "text/x-python",
   "name": "python",
   "nbconvert_exporter": "python",
   "pygments_lexer": "ipython3",
   "version": "3.7.3"
  }
 },
 "nbformat": 4,
 "nbformat_minor": 2
}
